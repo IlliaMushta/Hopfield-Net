{
 "cells": [
  {
   "cell_type": "code",
   "execution_count": 1,
   "id": "tamil-timothy",
   "metadata": {},
   "outputs": [],
   "source": [
    "import matplotlib.pyplot as plt\n",
    "import numpy as np\n",
    "from PIL import Image, ImageDraw\n",
    "import os\n",
    "import random\n",
    "np.random.seed(0)\n",
    "random.seed(0)"
   ]
  },
  {
   "cell_type": "code",
   "execution_count": 2,
   "id": "nonprofit-picnic",
   "metadata": {},
   "outputs": [],
   "source": [
    "path2data = \"D:\\FEL\\Ya\"\n",
    "imageL = Image.open(os.path.join(path2data,\"imL.png\"))\n",
    "imageN = Image.open(os.path.join(path2data,\"imN.png\"))\n",
    "imageN2 = Image.open(os.path.join(path2data,\"imN2.png\"))"
   ]
  },
  {
   "cell_type": "code",
   "execution_count": 3,
   "id": "outer-delta",
   "metadata": {},
   "outputs": [
    {
     "data": {
      "text/plain": [
       "<matplotlib.image.AxesImage at 0x1f1c7bfb940>"
      ]
     },
     "execution_count": 3,
     "metadata": {},
     "output_type": "execute_result"
    },
    {
     "data": {
      "image/png": "[encoded data removed]",
      "text/plain": [
       "<Figure size 720x720 with 3 Axes>"
      ]
     },
     "metadata": {
      "needs_background": "light"
     },
     "output_type": "display_data"
    }
   ],
   "source": [
    "plt.figure(figsize=(10,10))\n",
    "plt.subplot(1,3,1)\n",
    "plt.imshow(imageL, cmap=plt.cm.gray)\n",
    "plt.subplot(1,3,2)\n",
    "plt.imshow(imageN, cmap=plt.cm.gray)\n",
    "plt.subplot(1,3,3)\n",
    "plt.imshow(imageN2, cmap=plt.cm.gray)"
   ]
  },
  {
   "cell_type": "code",
   "execution_count": 4,
   "id": "dated-terror",
   "metadata": {},
   "outputs": [],
   "source": [
    "imageL = np.array(imageL.convert('1'),dtype=np.int).flatten()\n",
    "imageN = np.array(imageN.convert('1'),dtype=np.int).flatten()\n",
    "imageN2 = np.array(Image.fromarray(np.array(imageN2,dtype=np.uint)[:,:,1]).convert('1'),dtype=np.int).flatten()\n",
    "\n",
    "for i in range(0,len(imageL)):\n",
    "    if(imageL[i]>0):\n",
    "        imageL[i] = 1\n",
    "    else:\n",
    "        imageL[i] = -1\n",
    "\n",
    "for i in range(0,len(imageN)):\n",
    "    if(imageN[i]>0):\n",
    "        imageN[i] = 1\n",
    "    else:\n",
    "        imageN[i] = -1\n",
    "        \n",
    "for i in range(0,len(imageN2)):\n",
    "    if(imageN2[i]>0):\n",
    "        imageN2[i] = -1\n",
    "    else:\n",
    "        imageN2[i] = 1 \n",
    "        \n",
    "data0 = []\n",
    "data0.append(np.array(imageL))\n",
    "data0.append(np.array(imageN))\n",
    "data0.append(np.array(imageN2))"
   ]
  },
  {
   "cell_type": "code",
   "execution_count": 5,
   "id": "average-pencil",
   "metadata": {},
   "outputs": [
    {
     "data": {
      "text/plain": [
       "<matplotlib.image.AxesImage at 0x1f1c7ce08e0>"
      ]
     },
     "execution_count": 5,
     "metadata": {},
     "output_type": "execute_result"
    },
    {
     "data": {
      "image/png": "[encoded data removed]",
      "text/plain": [
       "<Figure size 720x720 with 3 Axes>"
      ]
     },
     "metadata": {
      "needs_background": "light"
     },
     "output_type": "display_data"
    }
   ],
   "source": [
    "plt.figure(figsize=(10,10))\n",
    "plt.subplot(1,3,1)\n",
    "plt.imshow(imageL.reshape(28,28), cmap=plt.cm.gray)\n",
    "plt.subplot(1,3,2)\n",
    "plt.imshow(imageN.reshape(28,28), cmap=plt.cm.gray)\n",
    "plt.subplot(1,3,3)\n",
    "plt.imshow(imageN2.reshape(28,28), cmap=plt.cm.gray)"
   ]
  },
  {
   "cell_type": "code",
   "execution_count": 6,
   "id": "interstate-stephen",
   "metadata": {},
   "outputs": [],
   "source": [
    "#print(imageL.reshape(28,28))"
   ]
  },
  {
   "cell_type": "code",
   "execution_count": 7,
   "id": "marine-indianapolis",
   "metadata": {},
   "outputs": [],
   "source": [
    "import copy\n",
    "data = []\n",
    "\n",
    "noise_example_L = copy.deepcopy(imageL)\n",
    "num_pixels_to_change_L = np.uint8(np.random.rand(1)*np.ceil(len(imageL)/1.5))\n",
    "pixels_to_change_L = np.uint(np.random.rand(num_pixels_to_change_L[0])*len(imageL))\n",
    "    \n",
    "for j in pixels_to_change_L:\n",
    "    noise_example_L[j] = -noise_example_L[j]\n",
    "data.append(noise_example_L)"
   ]
  },
  {
   "cell_type": "code",
   "execution_count": 8,
   "id": "statewide-pearl",
   "metadata": {},
   "outputs": [],
   "source": [
    "noise_example_N = copy.deepcopy(imageN)\n",
    "num_pixels_to_change_N = np.uint8(np.random.rand(1)*np.ceil(len(imageN)/2))\n",
    "pixels_to_change_N = np.uint(np.random.rand(num_pixels_to_change_N[0])*len(imageN))\n",
    "\n",
    "for j in pixels_to_change_N:\n",
    "    noise_example_N[j] = -noise_example_N[j]\n",
    "data.append(noise_example_N)"
   ]
  },
  {
   "cell_type": "code",
   "execution_count": 9,
   "id": "thousand-sullivan",
   "metadata": {},
   "outputs": [],
   "source": [
    "noise_example_N2 = copy.deepcopy(imageN2)\n",
    "num_pixels_to_change_N2 = np.uint8(np.random.rand(1)*np.ceil(len(imageN2)/1.5))\n",
    "pixels_to_change_N2 = np.uint(np.random.rand(num_pixels_to_change_N2[0])*len(imageN2))\n",
    "\n",
    "for j in pixels_to_change_N2:\n",
    "    noise_example_N2[j] = -noise_example_N2[j]\n",
    "data.append(noise_example_N2)"
   ]
  },
  {
   "cell_type": "code",
   "execution_count": 10,
   "id": "controlled-charter",
   "metadata": {},
   "outputs": [
    {
     "data": {
      "text/plain": [
       "<matplotlib.image.AxesImage at 0x1f1c7dd71f0>"
      ]
     },
     "execution_count": 10,
     "metadata": {},
     "output_type": "execute_result"
    },
    {
     "data": {
      "image/png": "[encoded data removed]",
      "text/plain": [
       "<Figure size 720x720 with 3 Axes>"
      ]
     },
     "metadata": {
      "needs_background": "light"
     },
     "output_type": "display_data"
    }
   ],
   "source": [
    "plt.figure(figsize=(10,10))\n",
    "plt.subplot(1,3,1)\n",
    "plt.imshow(data[0].reshape(28,28), cmap=plt.cm.gray)\n",
    "plt.subplot(1,3,2)\n",
    "plt.imshow(data[1].reshape(28,28), cmap=plt.cm.gray)\n",
    "plt.subplot(1,3,3)\n",
    "plt.imshow(data[2].reshape(28,28), cmap=plt.cm.gray)"
   ]
  },
  {
   "cell_type": "code",
   "execution_count": 11,
   "id": "digital-navigation",
   "metadata": {},
   "outputs": [],
   "source": [
    "class Hopfield_Net():\n",
    "    def __init__(self,data_orig,data_noise,num_iter):\n",
    "        self.data_orig = data_orig\n",
    "        self.data_noise = data_noise\n",
    "        self.num_iter = num_iter\n",
    "        \n",
    "        summa = np.zeros((self.data_orig.shape[1],self.data_orig.shape[1]))\n",
    "        for sample in self.data_orig:\n",
    "            summa = summa + np.dot(sample.reshape((self.data_orig.shape[1],1)),sample.reshape((1,self.data_orig.shape[1])))\n",
    "        self.W = summa\n",
    "        self.W = self.W*(np.ones((self.data_orig.shape[1],self.data_orig.shape[1]))-np.eye(self.data_orig.shape[1]))\n",
    "    \n",
    "    def forward(self):\n",
    "        history = []\n",
    "        result1 = np.sign(np.dot(self.data_noise[0].reshape(1,784),self.W))\n",
    "        result2 = np.sign(np.dot(self.data_noise[1].reshape(1,784),self.W))\n",
    "        result3 = np.sign(np.dot(self.data_noise[2].reshape(1,784),self.W))\n",
    "        \n",
    "        for i in range(0,self.num_iter):\n",
    "            result1 = np.sign(np.dot(result1,self.W))\n",
    "            result2 = np.sign(np.dot(result2,self.W))\n",
    "            result3 = np.sign(np.dot(result3,self.W))   \n",
    "            history.append(np.dstack((result1,result2,result3)))\n",
    "        \n",
    "        return self.W, history, result1, result2, result3"
   ]
  },
  {
   "cell_type": "code",
   "execution_count": 12,
   "id": "white-deputy",
   "metadata": {},
   "outputs": [],
   "source": [
    "data0 = np.array(data0)\n",
    "data = np.array(data)\n",
    "model = Hopfield_Net(data0,data,1)"
   ]
  },
  {
   "cell_type": "code",
   "execution_count": 13,
   "id": "attended-store",
   "metadata": {},
   "outputs": [],
   "source": [
    "m,history,result1, result2,result3 = model.forward()"
   ]
  },
  {
   "cell_type": "code",
   "execution_count": 14,
   "id": "broadband-vienna",
   "metadata": {},
   "outputs": [
    {
     "data": {
      "text/plain": [
       "<matplotlib.image.AxesImage at 0x1f1c7f10490>"
      ]
     },
     "execution_count": 14,
     "metadata": {},
     "output_type": "execute_result"
    },
    {
     "data": {
      "image/png": "[encoded data removed]",
      "text/plain": [
       "<Figure size 720x720 with 3 Axes>"
      ]
     },
     "metadata": {
      "needs_background": "light"
     },
     "output_type": "display_data"
    }
   ],
   "source": [
    "plt.figure(figsize=(10,10))\n",
    "plt.subplot(1,3,1)\n",
    "plt.imshow(result1.reshape(28,28), cmap=plt.cm.gray)\n",
    "plt.subplot(1,3,2)\n",
    "plt.imshow(result2.reshape(28,28), cmap=plt.cm.gray)\n",
    "plt.subplot(1,3,3)\n",
    "plt.imshow(result3.reshape(28,28), cmap=plt.cm.gray)"
   ]
  },
  {
   "cell_type": "code",
   "execution_count": 15,
   "id": "imported-microwave",
   "metadata": {},
   "outputs": [
    {
     "data": {
      "image/png": "[encoded data removed]",
      "text/plain": [
       "<Figure size 720x720 with 3 Axes>"
      ]
     },
     "metadata": {
      "needs_background": "light"
     },
     "output_type": "display_data"
    }
   ],
   "source": [
    "plt.figure(figsize=(10,10))\n",
    "\n",
    "for i in range(0,np.array(history).shape[0]):\n",
    "    plt.subplot(5,3,1+3*i)\n",
    "    plt.imshow(np.array(history)[i,:,:,0].reshape(28,28), cmap=plt.cm.gray)\n",
    "    plt.subplot(5,3,2+3*i)\n",
    "    plt.imshow(np.array(history)[i,:,:,1].reshape(28,28), cmap=plt.cm.gray)\n",
    "    plt.subplot(5,3,3+3*i)\n",
    "    plt.imshow(np.array(history)[i,:,:,2].reshape(28,28), cmap=plt.cm.gray)"
   ]
  },
  {
   "cell_type": "code",
   "execution_count": null,
   "id": "minimal-massage",
   "metadata": {},
   "outputs": [],
   "source": []
  }
 ],
 "metadata": {
  "kernelspec": {
   "display_name": "Python 3",
   "language": "python",
   "name": "python3"
  },
  "language_info": {
   "codemirror_mode": {
    "name": "ipython",
    "version": 3
   },
   "file_extension": ".py",
   "mimetype": "text/x-python",
   "name": "python",
   "nbconvert_exporter": "python",
   "pygments_lexer": "ipython3",
   "version": "3.8.5"
  }
 },
 "nbformat": 4,
 "nbformat_minor": 5
}
